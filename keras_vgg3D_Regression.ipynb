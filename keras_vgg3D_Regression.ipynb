{
 "cells": [
  {
   "cell_type": "code",
   "execution_count": 2,
   "id": "1ae33f51",
   "metadata": {},
   "outputs": [],
   "source": [
    "import os \n",
    "import numpy as np\n",
    "from tensorflow import keras\n",
    "from tensorflow.keras import layers\n",
    "\n",
    "from tensorflow.keras.layers import Input, Conv2D, Conv3D\n",
    "from tensorflow.keras.layers import MaxPool2D, MaxPool3D, Flatten, Dense\n",
    "from tensorflow.keras import Model\n",
    "\n",
    "import tensorflow as tf\n",
    "import tf2onnx\n",
    "import onnx\n",
    "\n",
    "import onnxruntime as ort\n",
    "import numpy as np\n",
    "\n",
    "import cv2\n",
    "import io\n",
    "\n",
    "import matplotlib.pyplot as plt"
   ]
  },
  {
   "cell_type": "code",
   "execution_count": 9,
   "id": "237f7aaa",
   "metadata": {},
   "outputs": [
    {
     "data": {
      "text/plain": [
       "[PhysicalDevice(name='/physical_device:GPU:0', device_type='GPU')]"
      ]
     },
     "execution_count": 9,
     "metadata": {},
     "output_type": "execute_result"
    }
   ],
   "source": [
    "# 檢查GPU\n",
    "tf.config.list_physical_devices('GPU')"
   ]
  },
  {
   "cell_type": "markdown",
   "id": "2b17d5c0",
   "metadata": {},
   "source": [
    "# 高光譜轉換模型"
   ]
  },
  {
   "cell_type": "code",
   "execution_count": 10,
   "id": "d55243ef",
   "metadata": {},
   "outputs": [],
   "source": [
    "class SpectrumTransfer:\n",
    "    \n",
    "    def __init__(self):\n",
    "        self.extend_mode = 0\n",
    "        self.B = None\n",
    "        self.C = None\n",
    "        self.M = None\n",
    "        self.TransM = None\n",
    "        self.TransMin = 0.0\n",
    "        self.TransMax = 1.0\n",
    "        \n",
    "    def get_extend(self, src_rgb):\n",
    "        \n",
    "        extend = None\n",
    "\n",
    "        if self.extend_mode == 0:\n",
    "            extend = np.array([src_rgb[:,0], src_rgb[:,1], src_rgb[:,2], np.power(src_rgb[:,0],2), np.power(src_rgb[:,1],2), np.power(src_rgb[:,2],2)])\n",
    "        elif self.extend_mode == 1:\n",
    "            extend = np.array([src_rgb[:,0], src_rgb[:,1], src_rgb[:,2], np.power(src_rgb[:,0],2), np.power(src_rgb[:,1],2), np.power(src_rgb[:,2],2),src_rgb[:,0]* src_rgb[:,1],src_rgb[:,0]* src_rgb[:,2],src_rgb[:,1]* src_rgb[:,2]])\n",
    "        elif self.extend_mode == 2:\n",
    "            extend = np.array([src_rgb[:,0], src_rgb[:,1], src_rgb[:,2], np.power(src_rgb[:,0],2), np.power(src_rgb[:,1],2), np.power(src_rgb[:,2],2),src_rgb[:,0]* src_rgb[:,1],src_rgb[:,0]* src_rgb[:,2],src_rgb[:,1]* src_rgb[:,2], np.power(src_rgb[:,0],3), np.power(src_rgb[:,1],3), np.power(src_rgb[:,2],3)])\n",
    "\n",
    "        return extend\n",
    "    \n",
    "    def prepare(self):\n",
    "        self.TransM = np.dot(self.M.T, self.B)\n",
    "        return\n",
    "    \n",
    "    def load(self, setup_file):\n",
    "        weight = np.load(setup_file)\n",
    "        \n",
    "        self.M = weight[\"a\"]\n",
    "        self.B = weight[\"b\"]\n",
    "        self.C = weight[\"c\"]\n",
    "        \n",
    "#         self.TransMin = weight['d'][0]\n",
    "#         self.TransMax = weight['d'][1]\n",
    "        \n",
    "        self.extend_mode = weight['e'][0]\n",
    "        \n",
    "        self.prepare()\n",
    "        \n",
    "        return\n",
    " \n",
    "    def transfer1D(self, src_data):\n",
    "        \n",
    "        src_data = src_data.astype(np.float32)\n",
    "\n",
    "        tar_sepc = np.dot(self.get_extend(src_data).T, self.TransM) + self.C\n",
    "        \n",
    "        tar_sepc = (tar_sepc - self.TransMin) / (self.TransMax - self.TransMin)\n",
    "\n",
    "        return tar_sepc\n",
    "    \n",
    "    def transfer(self, src_data):\n",
    "        \n",
    "        src_data = src_data.astype(np.float32)\n",
    "        \n",
    "        src_shape = src_data.shape\n",
    "\n",
    "        if len(src_shape) >= 3:\n",
    "            src_data = src_data.reshape(-1, src_shape[-1])\n",
    "\n",
    "        tar_sepc = np.dot(self.get_extend(src_data).T, self.TransM) + self.C\n",
    "\n",
    "        if len(src_shape) >= 3:\n",
    "            tar_sepc = tar_sepc.持reshape(src_shape[0:-1] + tuple([self.C.shape[0]]))\n",
    "        \n",
    "        tar_sepc = (tar_sepc - self.TransMin) / (self.TransMax - self.TransMin)\n",
    "        \n",
    "        return tar_sepc"
   ]
  },
  {
   "cell_type": "markdown",
   "id": "6e043303",
   "metadata": {},
   "source": [
    "建立LUT\n",
    "\n",
    "COLOR -> SPECTRUM\n",
    "\n",
    "RGB 0-255\n",
    "\n",
    "256*256*256 *401"
   ]
  },
  {
   "cell_type": "markdown",
   "id": "d9d66ca2",
   "metadata": {},
   "source": [
    "# 資料產生器"
   ]
  },
  {
   "cell_type": "code",
   "execution_count": 11,
   "id": "f741fcc6",
   "metadata": {},
   "outputs": [],
   "source": [
    "class DataGenerator(keras.utils.Sequence):\n",
    "\n",
    "    def __init__(self, data_path:str, shuffle=True, batch_size = 4, image_shape = (64,64,11)):\n",
    "        'Initialization'        \n",
    "        self.transfer = SpectrumTransfer()\n",
    "        self.transfer.load(\"weight.npz\")\n",
    "        \n",
    "        self.data_path = data_path\n",
    "        self.path_list = os.listdir(data_path) # 列出所有圖片檔名  \n",
    "        self.shuffle = shuffle\n",
    "        self.batch_size = batch_size\n",
    "        self.image_shape = image_shape\n",
    "        self.on_epoch_end()\n",
    "        \n",
    "        self.n_classes = 4\n",
    "        \n",
    "        self.label_dict = dict()\n",
    "        self.label_dict['good'] = 1.0/4.0\n",
    "        self.label_dict['normal'] = 2.0/4.0\n",
    "        self.label_dict['unhealthy'] = 3.0/4.0\n",
    "        self.label_dict['very unhealthy'] = 4.0/4.0\n",
    "        \n",
    "        self.data_dict = dict()\n",
    "        \n",
    "    def __len__(self):\n",
    "        'Denotes the number of batches per epoch'\n",
    "        return int(np.floor(len(self.path_list) / self.batch_size))\n",
    "    \n",
    "    def __getitem__(self, index: int):\n",
    "        'Generate one batch of data'\n",
    "        # Generate indexes of the batch\n",
    "        indexes = self.indexes[index*self.batch_size:(index+1)*self.batch_size]\n",
    "\n",
    "        # Generate data\n",
    "        X, y = self.__data_generation(indexes)\n",
    "\n",
    "        return X, y\n",
    "\n",
    "    def on_epoch_end(self):\n",
    "        'Updates indexes after each epoch'\n",
    "        self.indexes = np.arange(len(self.path_list))\n",
    "        if self.shuffle == True:\n",
    "            np.random.shuffle(self.indexes)\n",
    "             \n",
    "    def __data_generation(self, tar_ids):\n",
    "        'Generates data containing batch_size samples' # X : (n_samples, *dim, n_channels)\n",
    "        # Initialization\n",
    "        \n",
    "        X = np.empty(([self.batch_size] + list(self.image_shape)))\n",
    "        y = np.empty((self.batch_size), dtype=float)\n",
    "\n",
    "        # Generate data\n",
    "        for i, ID in enumerate(tar_ids):\n",
    "            \n",
    "            trans_spec = None\n",
    "            label = None\n",
    "            \n",
    "            if (ID in self.data_dict):\n",
    "                trans_spec, label = self.data_dict[ID]\n",
    "            else:\n",
    "                \n",
    "                img_path = self.path_list[ID]\n",
    "\n",
    "                img_key = img_path.split('.')[0]\n",
    "\n",
    "                label = self.label_dict.get(img_key, -1)\n",
    "\n",
    "                img_path = os.path.join(self.data_path, img_path)# 取得圖片完整路徑\n",
    "                np_img = cv2.imread(img_path)\n",
    "\n",
    "                trans_spec = self.transfer.transfer(np_img)[:,:,::40].astype('float32')\n",
    "                \n",
    "                self.data_dict[ID] = [trans_spec, label]\n",
    "             \n",
    "            X[i,] = trans_spec\n",
    "            y[i] = label\n",
    "\n",
    "        return X, y"
   ]
  },
  {
   "cell_type": "markdown",
   "id": "cc2551cf",
   "metadata": {},
   "source": [
    "\n"
   ]
  },
  {
   "cell_type": "markdown",
   "id": "615c6163",
   "metadata": {},
   "source": [
    "# 定義模型"
   ]
  },
  {
   "cell_type": "code",
   "execution_count": 12,
   "id": "5427b231",
   "metadata": {},
   "outputs": [
    {
     "name": "stdout",
     "output_type": "stream",
     "text": [
      "Model: \"model_1\"\n",
      "_________________________________________________________________\n",
      " Layer (type)                Output Shape              Param #   \n",
      "=================================================================\n",
      " input_2 (InputLayer)        [(None, 64, 64, 11, 1)]   0         \n",
      "                                                                 \n",
      " conv3d_3 (Conv3D)           (None, 64, 64, 11, 8)     224       \n",
      "                                                                 \n",
      " max_pooling3d_3 (MaxPooling  (None, 32, 32, 6, 8)     0         \n",
      " 3D)                                                             \n",
      "                                                                 \n",
      " conv3d_4 (Conv3D)           (None, 32, 32, 6, 16)     3472      \n",
      "                                                                 \n",
      " max_pooling3d_4 (MaxPooling  (None, 16, 16, 3, 16)    0         \n",
      " 3D)                                                             \n",
      "                                                                 \n",
      " conv3d_5 (Conv3D)           (None, 16, 16, 3, 32)     13856     \n",
      "                                                                 \n",
      " max_pooling3d_5 (MaxPooling  (None, 8, 8, 2, 32)      0         \n",
      " 3D)                                                             \n",
      "                                                                 \n",
      " flatten_1 (Flatten)         (None, 4096)              0         \n",
      "                                                                 \n",
      " dense_3 (Dense)             (None, 4096)              16781312  \n",
      "                                                                 \n",
      " dense_4 (Dense)             (None, 256)               1048832   \n",
      "                                                                 \n",
      " dense_5 (Dense)             (None, 1)                 257       \n",
      "                                                                 \n",
      "=================================================================\n",
      "Total params: 17,847,953\n",
      "Trainable params: 17,847,953\n",
      "Non-trainable params: 0\n",
      "_________________________________________________________________\n"
     ]
    }
   ],
   "source": [
    "# input  \n",
    "input_data = Input(shape =(64,64,11,1))\n",
    "\n",
    "# 1st Conv Block\n",
    "x = Conv3D (filters =8, kernel_size =3, padding ='same', activation='relu')(input_data)\n",
    "x = MaxPool3D(pool_size =2, strides =2, padding ='same')(x)\n",
    "\n",
    "# 2nd Conv Block\n",
    "x = Conv3D (filters =16, kernel_size =3, padding ='same', activation='relu')(x)\n",
    "x = MaxPool3D(pool_size =2, strides =2, padding ='same')(x)\n",
    "\n",
    "# 3rd Conv block  \n",
    "x = Conv3D (filters =32, kernel_size =3, padding ='same', activation='relu')(x)  \n",
    "x = MaxPool3D(pool_size =2, strides =2, padding ='same')(x)\n",
    "\n",
    "# Fully connected layers  \n",
    "x = Flatten()(x) \n",
    "x = Dense(units = 4096, activation ='relu')(x) \n",
    "x = Dense(units = 256, activation ='relu')(x) \n",
    "output_data = Dense(units = 1)(x)\n",
    "\n",
    "# creating the model\n",
    "model = Model (inputs=input_data, outputs=output_data)\n",
    "model.summary()"
   ]
  },
  {
   "cell_type": "code",
   "execution_count": 13,
   "id": "81c94f0c",
   "metadata": {},
   "outputs": [],
   "source": [
    "model.compile(optimizer='sgd', loss='mse', metrics=['accuracy', 'MeanSquaredError'])"
   ]
  },
  {
   "cell_type": "markdown",
   "id": "0a96816a",
   "metadata": {},
   "source": [
    "# 訓練模型"
   ]
  },
  {
   "cell_type": "code",
   "execution_count": 21,
   "id": "dd11df4a",
   "metadata": {},
   "outputs": [
    {
     "name": "stdout",
     "output_type": "stream",
     "text": [
      "Epoch 1/100\n",
      "1943/1943 [==============================] - 201s 104ms/step - loss: 0.0170 - accuracy: 0.0000e+00 - mean_squared_error: 0.0170 - val_loss: 0.0213 - val_accuracy: 0.0000e+00 - val_mean_squared_error: 0.0213\n",
      "Epoch 2/100\n",
      "1943/1943 [==============================] - 33s 17ms/step - loss: 0.0120 - accuracy: 0.0000e+00 - mean_squared_error: 0.0120 - val_loss: 0.0175 - val_accuracy: 0.0000e+00 - val_mean_squared_error: 0.0175\n",
      "Epoch 3/100\n",
      "1943/1943 [==============================] - 33s 17ms/step - loss: 0.0097 - accuracy: 0.0000e+00 - mean_squared_error: 0.0097 - val_loss: 0.0190 - val_accuracy: 0.0000e+00 - val_mean_squared_error: 0.0190\n",
      "Epoch 4/100\n",
      "1943/1943 [==============================] - 34s 17ms/step - loss: 0.0074 - accuracy: 0.0000e+00 - mean_squared_error: 0.0074 - val_loss: 0.0205 - val_accuracy: 0.0000e+00 - val_mean_squared_error: 0.0205\n",
      "Epoch 5/100\n",
      "1943/1943 [==============================] - 33s 17ms/step - loss: 0.0056 - accuracy: 0.0000e+00 - mean_squared_error: 0.0056 - val_loss: 0.0162 - val_accuracy: 0.0000e+00 - val_mean_squared_error: 0.0162\n",
      "Epoch 6/100\n",
      "1943/1943 [==============================] - 33s 17ms/step - loss: 0.0046 - accuracy: 0.0000e+00 - mean_squared_error: 0.0046 - val_loss: 0.0156 - val_accuracy: 0.0000e+00 - val_mean_squared_error: 0.0156\n",
      "Epoch 7/100\n",
      "1943/1943 [==============================] - 33s 17ms/step - loss: 0.0034 - accuracy: 0.0000e+00 - mean_squared_error: 0.0034 - val_loss: 0.0137 - val_accuracy: 0.0000e+00 - val_mean_squared_error: 0.0137\n",
      "Epoch 8/100\n",
      "1943/1943 [==============================] - 33s 17ms/step - loss: 0.0026 - accuracy: 0.0000e+00 - mean_squared_error: 0.0026 - val_loss: 0.0133 - val_accuracy: 0.0000e+00 - val_mean_squared_error: 0.0133\n",
      "Epoch 9/100\n",
      "1943/1943 [==============================] - 34s 17ms/step - loss: 0.0020 - accuracy: 0.0000e+00 - mean_squared_error: 0.0020 - val_loss: 0.0134 - val_accuracy: 0.0000e+00 - val_mean_squared_error: 0.0134\n",
      "Epoch 10/100\n",
      "1943/1943 [==============================] - 33s 17ms/step - loss: 0.0016 - accuracy: 0.0000e+00 - mean_squared_error: 0.0016 - val_loss: 0.0134 - val_accuracy: 0.0000e+00 - val_mean_squared_error: 0.0134\n",
      "Epoch 11/100\n",
      "1943/1943 [==============================] - 33s 17ms/step - loss: 0.0012 - accuracy: 0.0000e+00 - mean_squared_error: 0.0012 - val_loss: 0.0128 - val_accuracy: 0.0000e+00 - val_mean_squared_error: 0.0128\n",
      "Epoch 12/100\n",
      "1943/1943 [==============================] - 33s 17ms/step - loss: 8.9369e-04 - accuracy: 0.0000e+00 - mean_squared_error: 8.9369e-04 - val_loss: 0.0130 - val_accuracy: 0.0000e+00 - val_mean_squared_error: 0.0130\n",
      "Epoch 13/100\n",
      "1943/1943 [==============================] - 33s 17ms/step - loss: 7.0323e-04 - accuracy: 0.0000e+00 - mean_squared_error: 7.0323e-04 - val_loss: 0.0127 - val_accuracy: 0.0000e+00 - val_mean_squared_error: 0.0127\n",
      "Epoch 14/100\n",
      "1943/1943 [==============================] - 33s 17ms/step - loss: 5.5701e-04 - accuracy: 0.0000e+00 - mean_squared_error: 5.5701e-04 - val_loss: 0.0128 - val_accuracy: 0.0000e+00 - val_mean_squared_error: 0.0128\n",
      "Epoch 15/100\n",
      "1943/1943 [==============================] - 33s 17ms/step - loss: 4.2696e-04 - accuracy: 0.0000e+00 - mean_squared_error: 4.2696e-04 - val_loss: 0.0130 - val_accuracy: 0.0000e+00 - val_mean_squared_error: 0.0130\n",
      "Epoch 16/100\n",
      "1943/1943 [==============================] - 33s 17ms/step - loss: 3.4721e-04 - accuracy: 0.0000e+00 - mean_squared_error: 3.4721e-04 - val_loss: 0.0129 - val_accuracy: 0.0000e+00 - val_mean_squared_error: 0.0129\n",
      "Epoch 17/100\n",
      "1943/1943 [==============================] - 33s 17ms/step - loss: 2.8667e-04 - accuracy: 0.0000e+00 - mean_squared_error: 2.8667e-04 - val_loss: 0.0126 - val_accuracy: 0.0000e+00 - val_mean_squared_error: 0.0126\n",
      "Epoch 18/100\n",
      "1943/1943 [==============================] - 34s 17ms/step - loss: 2.2256e-04 - accuracy: 0.0000e+00 - mean_squared_error: 2.2256e-04 - val_loss: 0.0126 - val_accuracy: 0.0000e+00 - val_mean_squared_error: 0.0126\n",
      "Epoch 19/100\n",
      "1943/1943 [==============================] - 33s 17ms/step - loss: 1.7629e-04 - accuracy: 0.0000e+00 - mean_squared_error: 1.7629e-04 - val_loss: 0.0125 - val_accuracy: 0.0000e+00 - val_mean_squared_error: 0.0125\n",
      "Epoch 20/100\n",
      "1943/1943 [==============================] - 33s 17ms/step - loss: 1.5169e-04 - accuracy: 0.0000e+00 - mean_squared_error: 1.5169e-04 - val_loss: 0.0127 - val_accuracy: 0.0000e+00 - val_mean_squared_error: 0.0127\n",
      "Epoch 21/100\n",
      "1943/1943 [==============================] - 34s 17ms/step - loss: 1.3319e-04 - accuracy: 0.0000e+00 - mean_squared_error: 1.3319e-04 - val_loss: 0.0126 - val_accuracy: 0.0000e+00 - val_mean_squared_error: 0.0126\n",
      "Epoch 22/100\n",
      "1943/1943 [==============================] - 34s 17ms/step - loss: 1.0154e-04 - accuracy: 0.0000e+00 - mean_squared_error: 1.0154e-04 - val_loss: 0.0125 - val_accuracy: 0.0000e+00 - val_mean_squared_error: 0.0125\n",
      "Epoch 23/100\n",
      "1943/1943 [==============================] - 34s 17ms/step - loss: 8.2652e-05 - accuracy: 0.0000e+00 - mean_squared_error: 8.2652e-05 - val_loss: 0.0125 - val_accuracy: 0.0000e+00 - val_mean_squared_error: 0.0125\n",
      "Epoch 24/100\n",
      "1943/1943 [==============================] - 34s 17ms/step - loss: 7.0120e-05 - accuracy: 0.0000e+00 - mean_squared_error: 7.0120e-05 - val_loss: 0.0124 - val_accuracy: 0.0000e+00 - val_mean_squared_error: 0.0124\n",
      "Epoch 25/100\n",
      "1943/1943 [==============================] - 34s 17ms/step - loss: 6.1382e-05 - accuracy: 0.0000e+00 - mean_squared_error: 6.1382e-05 - val_loss: 0.0126 - val_accuracy: 0.0000e+00 - val_mean_squared_error: 0.0126\n",
      "Epoch 26/100\n",
      "1943/1943 [==============================] - 34s 17ms/step - loss: 5.0798e-05 - accuracy: 0.0000e+00 - mean_squared_error: 5.0798e-05 - val_loss: 0.0125 - val_accuracy: 0.0000e+00 - val_mean_squared_error: 0.0125\n",
      "Epoch 27/100\n",
      "1943/1943 [==============================] - 34s 17ms/step - loss: 4.1966e-05 - accuracy: 0.0000e+00 - mean_squared_error: 4.1966e-05 - val_loss: 0.0124 - val_accuracy: 0.0000e+00 - val_mean_squared_error: 0.0124\n",
      "Epoch 28/100\n",
      "1943/1943 [==============================] - 33s 17ms/step - loss: 3.6470e-05 - accuracy: 0.0000e+00 - mean_squared_error: 3.6470e-05 - val_loss: 0.0125 - val_accuracy: 0.0000e+00 - val_mean_squared_error: 0.0125\n",
      "Epoch 29/100\n",
      "1943/1943 [==============================] - 33s 17ms/step - loss: 3.2984e-05 - accuracy: 0.0000e+00 - mean_squared_error: 3.2984e-05 - val_loss: 0.0124 - val_accuracy: 0.0000e+00 - val_mean_squared_error: 0.0124\n",
      "Epoch 30/100\n",
      "1943/1943 [==============================] - 33s 17ms/step - loss: 2.8640e-05 - accuracy: 0.0000e+00 - mean_squared_error: 2.8640e-05 - val_loss: 0.0125 - val_accuracy: 0.0000e+00 - val_mean_squared_error: 0.0125\n",
      "Epoch 31/100\n",
      "1943/1943 [==============================] - 33s 17ms/step - loss: 2.3932e-05 - accuracy: 0.0000e+00 - mean_squared_error: 2.3932e-05 - val_loss: 0.0125 - val_accuracy: 0.0000e+00 - val_mean_squared_error: 0.0125\n",
      "Epoch 32/100\n",
      "1943/1943 [==============================] - 33s 17ms/step - loss: 2.1871e-05 - accuracy: 0.0000e+00 - mean_squared_error: 2.1871e-05 - val_loss: 0.0125 - val_accuracy: 0.0000e+00 - val_mean_squared_error: 0.0125\n",
      "Epoch 33/100\n",
      "1943/1943 [==============================] - 33s 17ms/step - loss: 1.8767e-05 - accuracy: 0.0000e+00 - mean_squared_error: 1.8767e-05 - val_loss: 0.0125 - val_accuracy: 0.0000e+00 - val_mean_squared_error: 0.0125\n",
      "Epoch 34/100\n",
      "1943/1943 [==============================] - 32s 17ms/step - loss: 1.6247e-05 - accuracy: 0.0000e+00 - mean_squared_error: 1.6247e-05 - val_loss: 0.0125 - val_accuracy: 0.0000e+00 - val_mean_squared_error: 0.0125\n",
      "Epoch 35/100\n",
      "1943/1943 [==============================] - 32s 17ms/step - loss: 1.5746e-05 - accuracy: 0.0000e+00 - mean_squared_error: 1.5746e-05 - val_loss: 0.0125 - val_accuracy: 0.0000e+00 - val_mean_squared_error: 0.0125\n",
      "Epoch 36/100\n",
      "1943/1943 [==============================] - 33s 17ms/step - loss: 1.2881e-05 - accuracy: 0.0000e+00 - mean_squared_error: 1.2881e-05 - val_loss: 0.0125 - val_accuracy: 0.0000e+00 - val_mean_squared_error: 0.0125\n",
      "Epoch 37/100\n",
      "1943/1943 [==============================] - 32s 17ms/step - loss: 1.2418e-05 - accuracy: 0.0000e+00 - mean_squared_error: 1.2418e-05 - val_loss: 0.0125 - val_accuracy: 0.0000e+00 - val_mean_squared_error: 0.0125\n"
     ]
    },
    {
     "name": "stdout",
     "output_type": "stream",
     "text": [
      "Epoch 38/100\n",
      "1943/1943 [==============================] - 32s 17ms/step - loss: 1.0974e-05 - accuracy: 0.0000e+00 - mean_squared_error: 1.0974e-05 - val_loss: 0.0125 - val_accuracy: 0.0000e+00 - val_mean_squared_error: 0.0125\n",
      "Epoch 39/100\n",
      "1943/1943 [==============================] - 32s 17ms/step - loss: 9.8201e-06 - accuracy: 0.0000e+00 - mean_squared_error: 9.8201e-06 - val_loss: 0.0124 - val_accuracy: 0.0000e+00 - val_mean_squared_error: 0.0124\n",
      "Epoch 40/100\n",
      "1943/1943 [==============================] - 33s 17ms/step - loss: 8.7391e-06 - accuracy: 0.0000e+00 - mean_squared_error: 8.7391e-06 - val_loss: 0.0124 - val_accuracy: 0.0000e+00 - val_mean_squared_error: 0.0124\n",
      "Epoch 41/100\n",
      "1943/1943 [==============================] - 32s 17ms/step - loss: 7.7298e-06 - accuracy: 0.0000e+00 - mean_squared_error: 7.7298e-06 - val_loss: 0.0125 - val_accuracy: 0.0000e+00 - val_mean_squared_error: 0.0125\n",
      "Epoch 42/100\n",
      "1943/1943 [==============================] - 32s 17ms/step - loss: 7.0326e-06 - accuracy: 0.0000e+00 - mean_squared_error: 7.0326e-06 - val_loss: 0.0124 - val_accuracy: 0.0000e+00 - val_mean_squared_error: 0.0124\n",
      "Epoch 43/100\n",
      "1943/1943 [==============================] - 32s 17ms/step - loss: 6.2327e-06 - accuracy: 0.0000e+00 - mean_squared_error: 6.2327e-06 - val_loss: 0.0125 - val_accuracy: 0.0000e+00 - val_mean_squared_error: 0.0125\n",
      "Epoch 44/100\n",
      "1943/1943 [==============================] - 33s 17ms/step - loss: 5.8350e-06 - accuracy: 0.0000e+00 - mean_squared_error: 5.8350e-06 - val_loss: 0.0125 - val_accuracy: 0.0000e+00 - val_mean_squared_error: 0.0125\n",
      "Epoch 45/100\n",
      "1943/1943 [==============================] - 33s 17ms/step - loss: 5.1681e-06 - accuracy: 0.0000e+00 - mean_squared_error: 5.1681e-06 - val_loss: 0.0125 - val_accuracy: 0.0000e+00 - val_mean_squared_error: 0.0125\n",
      "Epoch 46/100\n",
      "1943/1943 [==============================] - 32s 17ms/step - loss: 4.9768e-06 - accuracy: 0.0000e+00 - mean_squared_error: 4.9768e-06 - val_loss: 0.0124 - val_accuracy: 0.0000e+00 - val_mean_squared_error: 0.0124\n",
      "Epoch 47/100\n",
      "1943/1943 [==============================] - 32s 17ms/step - loss: 4.4440e-06 - accuracy: 0.0000e+00 - mean_squared_error: 4.4440e-06 - val_loss: 0.0125 - val_accuracy: 0.0000e+00 - val_mean_squared_error: 0.0125\n",
      "Epoch 48/100\n",
      "1943/1943 [==============================] - 33s 17ms/step - loss: 4.0656e-06 - accuracy: 0.0000e+00 - mean_squared_error: 4.0656e-06 - val_loss: 0.0124 - val_accuracy: 0.0000e+00 - val_mean_squared_error: 0.0124\n",
      "Epoch 49/100\n",
      "1943/1943 [==============================] - 33s 17ms/step - loss: 3.7614e-06 - accuracy: 0.0000e+00 - mean_squared_error: 3.7614e-06 - val_loss: 0.0125 - val_accuracy: 0.0000e+00 - val_mean_squared_error: 0.0125\n",
      "Epoch 50/100\n",
      "1943/1943 [==============================] - 33s 17ms/step - loss: 3.6268e-06 - accuracy: 0.0000e+00 - mean_squared_error: 3.6268e-06 - val_loss: 0.0125 - val_accuracy: 0.0000e+00 - val_mean_squared_error: 0.0125\n",
      "Epoch 51/100\n",
      "1943/1943 [==============================] - 33s 17ms/step - loss: 3.1951e-06 - accuracy: 0.0000e+00 - mean_squared_error: 3.1951e-06 - val_loss: 0.0124 - val_accuracy: 0.0000e+00 - val_mean_squared_error: 0.0124\n",
      "Epoch 52/100\n",
      "1943/1943 [==============================] - 33s 17ms/step - loss: 2.9653e-06 - accuracy: 0.0000e+00 - mean_squared_error: 2.9653e-06 - val_loss: 0.0124 - val_accuracy: 0.0000e+00 - val_mean_squared_error: 0.0124\n",
      "Epoch 53/100\n",
      "1943/1943 [==============================] - 33s 17ms/step - loss: 2.7502e-06 - accuracy: 0.0000e+00 - mean_squared_error: 2.7502e-06 - val_loss: 0.0124 - val_accuracy: 0.0000e+00 - val_mean_squared_error: 0.0124\n",
      "Epoch 54/100\n",
      "1943/1943 [==============================] - 33s 17ms/step - loss: 2.6715e-06 - accuracy: 0.0000e+00 - mean_squared_error: 2.6715e-06 - val_loss: 0.0125 - val_accuracy: 0.0000e+00 - val_mean_squared_error: 0.0125\n",
      "Epoch 55/100\n",
      "1943/1943 [==============================] - 33s 17ms/step - loss: 2.4151e-06 - accuracy: 0.0000e+00 - mean_squared_error: 2.4151e-06 - val_loss: 0.0125 - val_accuracy: 0.0000e+00 - val_mean_squared_error: 0.0125\n",
      "Epoch 56/100\n",
      "1943/1943 [==============================] - 33s 17ms/step - loss: 2.3312e-06 - accuracy: 0.0000e+00 - mean_squared_error: 2.3312e-06 - val_loss: 0.0125 - val_accuracy: 0.0000e+00 - val_mean_squared_error: 0.0125\n",
      "Epoch 57/100\n",
      "1943/1943 [==============================] - 33s 17ms/step - loss: 2.0623e-06 - accuracy: 0.0000e+00 - mean_squared_error: 2.0623e-06 - val_loss: 0.0125 - val_accuracy: 0.0000e+00 - val_mean_squared_error: 0.0125\n",
      "Epoch 58/100\n",
      "1943/1943 [==============================] - 32s 17ms/step - loss: 1.8604e-06 - accuracy: 0.0000e+00 - mean_squared_error: 1.8604e-06 - val_loss: 0.0125 - val_accuracy: 0.0000e+00 - val_mean_squared_error: 0.0125\n",
      "Epoch 59/100\n",
      "1943/1943 [==============================] - 33s 17ms/step - loss: 1.8479e-06 - accuracy: 0.0000e+00 - mean_squared_error: 1.8479e-06 - val_loss: 0.0125 - val_accuracy: 0.0000e+00 - val_mean_squared_error: 0.0125\n",
      "Epoch 60/100\n",
      "1943/1943 [==============================] - 33s 17ms/step - loss: 1.7356e-06 - accuracy: 0.0000e+00 - mean_squared_error: 1.7356e-06 - val_loss: 0.0125 - val_accuracy: 0.0000e+00 - val_mean_squared_error: 0.0125\n",
      "Epoch 61/100\n",
      "1943/1943 [==============================] - 33s 17ms/step - loss: 1.5767e-06 - accuracy: 0.0000e+00 - mean_squared_error: 1.5767e-06 - val_loss: 0.0125 - val_accuracy: 0.0000e+00 - val_mean_squared_error: 0.0125\n",
      "Epoch 62/100\n",
      "1943/1943 [==============================] - 33s 17ms/step - loss: 1.5294e-06 - accuracy: 0.0000e+00 - mean_squared_error: 1.5294e-06 - val_loss: 0.0125 - val_accuracy: 0.0000e+00 - val_mean_squared_error: 0.0125\n",
      "Epoch 63/100\n",
      "1943/1943 [==============================] - 32s 17ms/step - loss: 1.3285e-06 - accuracy: 0.0000e+00 - mean_squared_error: 1.3285e-06 - val_loss: 0.0125 - val_accuracy: 0.0000e+00 - val_mean_squared_error: 0.0125\n",
      "Epoch 64/100\n",
      "1943/1943 [==============================] - 33s 17ms/step - loss: 1.2763e-06 - accuracy: 0.0000e+00 - mean_squared_error: 1.2763e-06 - val_loss: 0.0125 - val_accuracy: 0.0000e+00 - val_mean_squared_error: 0.0125\n",
      "Epoch 65/100\n",
      "1943/1943 [==============================] - 33s 17ms/step - loss: 1.2161e-06 - accuracy: 0.0000e+00 - mean_squared_error: 1.2161e-06 - val_loss: 0.0125 - val_accuracy: 0.0000e+00 - val_mean_squared_error: 0.0125\n",
      "Epoch 66/100\n",
      "1943/1943 [==============================] - 33s 17ms/step - loss: 1.1433e-06 - accuracy: 0.0000e+00 - mean_squared_error: 1.1433e-06 - val_loss: 0.0125 - val_accuracy: 0.0000e+00 - val_mean_squared_error: 0.0125\n",
      "Epoch 67/100\n",
      "1943/1943 [==============================] - 33s 17ms/step - loss: 1.0830e-06 - accuracy: 0.0000e+00 - mean_squared_error: 1.0830e-06 - val_loss: 0.0125 - val_accuracy: 0.0000e+00 - val_mean_squared_error: 0.0125\n",
      "Epoch 68/100\n",
      "1943/1943 [==============================] - 33s 17ms/step - loss: 1.0234e-06 - accuracy: 0.0000e+00 - mean_squared_error: 1.0234e-06 - val_loss: 0.0125 - val_accuracy: 0.0000e+00 - val_mean_squared_error: 0.0125\n",
      "Epoch 69/100\n",
      "1943/1943 [==============================] - 33s 17ms/step - loss: 9.3711e-07 - accuracy: 0.0000e+00 - mean_squared_error: 9.3711e-07 - val_loss: 0.0125 - val_accuracy: 0.0000e+00 - val_mean_squared_error: 0.0125\n",
      "Epoch 70/100\n",
      "1943/1943 [==============================] - 33s 17ms/step - loss: 8.7385e-07 - accuracy: 0.0000e+00 - mean_squared_error: 8.7385e-07 - val_loss: 0.0125 - val_accuracy: 0.0000e+00 - val_mean_squared_error: 0.0125\n",
      "Epoch 71/100\n",
      "1943/1943 [==============================] - 33s 17ms/step - loss: 8.5525e-07 - accuracy: 0.0000e+00 - mean_squared_error: 8.5525e-07 - val_loss: 0.0125 - val_accuracy: 0.0000e+00 - val_mean_squared_error: 0.0125\n",
      "Epoch 72/100\n",
      "1943/1943 [==============================] - 32s 17ms/step - loss: 8.0983e-07 - accuracy: 0.0000e+00 - mean_squared_error: 8.0983e-07 - val_loss: 0.0125 - val_accuracy: 0.0000e+00 - val_mean_squared_error: 0.0125\n",
      "Epoch 73/100\n",
      "1943/1943 [==============================] - 32s 17ms/step - loss: 7.2080e-07 - accuracy: 0.0000e+00 - mean_squared_error: 7.2080e-07 - val_loss: 0.0125 - val_accuracy: 0.0000e+00 - val_mean_squared_error: 0.0125\n",
      "Epoch 74/100\n",
      "1943/1943 [==============================] - 32s 17ms/step - loss: 7.1099e-07 - accuracy: 0.0000e+00 - mean_squared_error: 7.1099e-07 - val_loss: 0.0125 - val_accuracy: 0.0000e+00 - val_mean_squared_error: 0.0125\n",
      "Epoch 75/100\n",
      "1943/1943 [==============================] - 32s 17ms/step - loss: 6.9674e-07 - accuracy: 0.0000e+00 - mean_squared_error: 6.9674e-07 - val_loss: 0.0125 - val_accuracy: 0.0000e+00 - val_mean_squared_error: 0.0125\n",
      "Epoch 76/100\n",
      "1943/1943 [==============================] - 32s 17ms/step - loss: 6.0838e-07 - accuracy: 0.0000e+00 - mean_squared_error: 6.0838e-07 - val_loss: 0.0125 - val_accuracy: 0.0000e+00 - val_mean_squared_error: 0.0125\n",
      "Epoch 77/100\n",
      "1943/1943 [==============================] - 33s 17ms/step - loss: 5.9439e-07 - accuracy: 0.0000e+00 - mean_squared_error: 5.9439e-07 - val_loss: 0.0125 - val_accuracy: 0.0000e+00 - val_mean_squared_error: 0.0125\n",
      "Epoch 78/100\n",
      "1943/1943 [==============================] - 33s 17ms/step - loss: 5.5823e-07 - accuracy: 0.0000e+00 - mean_squared_error: 5.5823e-07 - val_loss: 0.0125 - val_accuracy: 0.0000e+00 - val_mean_squared_error: 0.0125\n",
      "Epoch 79/100\n",
      "1943/1943 [==============================] - 33s 17ms/step - loss: 5.2885e-07 - accuracy: 0.0000e+00 - mean_squared_error: 5.2885e-07 - val_loss: 0.0125 - val_accuracy: 0.0000e+00 - val_mean_squared_error: 0.0125\n",
      "Epoch 80/100\n",
      "1943/1943 [==============================] - 33s 17ms/step - loss: 4.9353e-07 - accuracy: 0.0000e+00 - mean_squared_error: 4.9353e-07 - val_loss: 0.0125 - val_accuracy: 0.0000e+00 - val_mean_squared_error: 0.0125\n",
      "Epoch 81/100\n",
      "1943/1943 [==============================] - 33s 17ms/step - loss: 4.7783e-07 - accuracy: 0.0000e+00 - mean_squared_error: 4.7783e-07 - val_loss: 0.0125 - val_accuracy: 0.0000e+00 - val_mean_squared_error: 0.0125\n",
      "Epoch 82/100\n",
      "1943/1943 [==============================] - 33s 17ms/step - loss: 4.5153e-07 - accuracy: 0.0000e+00 - mean_squared_error: 4.5153e-07 - val_loss: 0.0125 - val_accuracy: 0.0000e+00 - val_mean_squared_error: 0.0125\n",
      "Epoch 83/100\n",
      "1943/1943 [==============================] - 33s 17ms/step - loss: 4.5198e-07 - accuracy: 0.0000e+00 - mean_squared_error: 4.5198e-07 - val_loss: 0.0125 - val_accuracy: 0.0000e+00 - val_mean_squared_error: 0.0125\n",
      "Epoch 84/100\n",
      "1943/1943 [==============================] - 33s 17ms/step - loss: 4.1339e-07 - accuracy: 0.0000e+00 - mean_squared_error: 4.1339e-07 - val_loss: 0.0125 - val_accuracy: 0.0000e+00 - val_mean_squared_error: 0.0125\n",
      "Epoch 85/100\n",
      "1943/1943 [==============================] - 32s 17ms/step - loss: 3.8471e-07 - accuracy: 0.0000e+00 - mean_squared_error: 3.8471e-07 - val_loss: 0.0125 - val_accuracy: 0.0000e+00 - val_mean_squared_error: 0.0125\n",
      "Epoch 86/100\n",
      "1943/1943 [==============================] - 33s 17ms/step - loss: 3.7920e-07 - accuracy: 0.0000e+00 - mean_squared_error: 3.7920e-07 - val_loss: 0.0125 - val_accuracy: 0.0000e+00 - val_mean_squared_error: 0.0125\n",
      "Epoch 87/100\n",
      "1943/1943 [==============================] - 32s 17ms/step - loss: 3.3754e-07 - accuracy: 0.0000e+00 - mean_squared_error: 3.3754e-07 - val_loss: 0.0125 - val_accuracy: 0.0000e+00 - val_mean_squared_error: 0.0125\n",
      "Epoch 88/100\n",
      "1943/1943 [==============================] - 33s 17ms/step - loss: 3.3432e-07 - accuracy: 0.0000e+00 - mean_squared_error: 3.3432e-07 - val_loss: 0.0125 - val_accuracy: 0.0000e+00 - val_mean_squared_error: 0.0125\n",
      "Epoch 89/100\n",
      "1943/1943 [==============================] - 33s 17ms/step - loss: 3.1486e-07 - accuracy: 0.0000e+00 - mean_squared_error: 3.1486e-07 - val_loss: 0.0125 - val_accuracy: 0.0000e+00 - val_mean_squared_error: 0.0125\n",
      "Epoch 90/100\n",
      "1943/1943 [==============================] - 32s 17ms/step - loss: 3.1329e-07 - accuracy: 0.0000e+00 - mean_squared_error: 3.1329e-07 - val_loss: 0.0125 - val_accuracy: 0.0000e+00 - val_mean_squared_error: 0.0125\n",
      "Epoch 91/100\n",
      "1943/1943 [==============================] - 33s 17ms/step - loss: 2.8071e-07 - accuracy: 0.0000e+00 - mean_squared_error: 2.8071e-07 - val_loss: 0.0125 - val_accuracy: 0.0000e+00 - val_mean_squared_error: 0.0125\n",
      "Epoch 92/100\n",
      "1943/1943 [==============================] - 33s 17ms/step - loss: 2.7578e-07 - accuracy: 0.0000e+00 - mean_squared_error: 2.7578e-07 - val_loss: 0.0125 - val_accuracy: 0.0000e+00 - val_mean_squared_error: 0.0125\n",
      "Epoch 93/100\n",
      "1943/1943 [==============================] - 33s 17ms/step - loss: 2.5919e-07 - accuracy: 0.0000e+00 - mean_squared_error: 2.5919e-07 - val_loss: 0.0125 - val_accuracy: 0.0000e+00 - val_mean_squared_error: 0.0125\n",
      "Epoch 94/100\n",
      "1943/1943 [==============================] - 33s 17ms/step - loss: 2.4807e-07 - accuracy: 0.0000e+00 - mean_squared_error: 2.4807e-07 - val_loss: 0.0125 - val_accuracy: 0.0000e+00 - val_mean_squared_error: 0.0125\n",
      "Epoch 95/100\n",
      "1943/1943 [==============================] - 33s 17ms/step - loss: 2.3383e-07 - accuracy: 0.0000e+00 - mean_squared_error: 2.3383e-07 - val_loss: 0.0125 - val_accuracy: 0.0000e+00 - val_mean_squared_error: 0.0125\n",
      "Epoch 96/100\n",
      "1943/1943 [==============================] - 33s 17ms/step - loss: 2.1889e-07 - accuracy: 0.0000e+00 - mean_squared_error: 2.1889e-07 - val_loss: 0.0125 - val_accuracy: 0.0000e+00 - val_mean_squared_error: 0.0125\n",
      "Epoch 97/100\n",
      "1943/1943 [==============================] - 32s 17ms/step - loss: 2.0769e-07 - accuracy: 0.0000e+00 - mean_squared_error: 2.0769e-07 - val_loss: 0.0125 - val_accuracy: 0.0000e+00 - val_mean_squared_error: 0.0125\n",
      "Epoch 98/100\n",
      "1943/1943 [==============================] - 33s 17ms/step - loss: 2.0225e-07 - accuracy: 0.0000e+00 - mean_squared_error: 2.0225e-07 - val_loss: 0.0125 - val_accuracy: 0.0000e+00 - val_mean_squared_error: 0.0125\n",
      "Epoch 99/100\n",
      "1943/1943 [==============================] - 33s 17ms/step - loss: 1.8368e-07 - accuracy: 0.0000e+00 - mean_squared_error: 1.8368e-07 - val_loss: 0.0125 - val_accuracy: 0.0000e+00 - val_mean_squared_error: 0.0125\n",
      "Epoch 100/100\n",
      "1943/1943 [==============================] - 33s 17ms/step - loss: 1.8839e-07 - accuracy: 0.0000e+00 - mean_squared_error: 1.8839e-07 - val_loss: 0.0125 - val_accuracy: 0.0000e+00 - val_mean_squared_error: 0.0125\n"
     ]
    }
   ],
   "source": [
    "epochs = 100\n",
    "\n",
    "train_data_path = 'D:\\\\AIR POLUTION\\\\TEST\\\\SplitTraining\\\\Train'\n",
    "test_data_path = 'D:\\\\AIR POLUTION\\\\TEST\\\\SplitTraining\\\\Test'\n",
    "\n",
    "shuffle=True\n",
    "batch_size = 4\n",
    "image_shape = (64,64,11)\n",
    "\n",
    "train_generator = DataGenerator(train_data_path, shuffle, batch_size, image_shape)\n",
    "test_generator = DataGenerator(test_data_path, shuffle, batch_size, image_shape)\n",
    "\n",
    "# Train model on dataset\n",
    "history = model.fit(x=train_generator,epochs=epochs, validation_data = test_generator)"
   ]
  },
  {
   "cell_type": "code",
   "execution_count": 15,
   "id": "3ab284a5",
   "metadata": {},
   "outputs": [
    {
     "name": "stdout",
     "output_type": "stream",
     "text": [
      "dict_keys(['loss', 'accuracy', 'mean_squared_error', 'val_loss', 'val_accuracy', 'val_mean_squared_error'])\n"
     ]
    }
   ],
   "source": [
    "print(history.history.keys())"
   ]
  },
  {
   "cell_type": "code",
   "execution_count": 16,
   "id": "0193b06a",
   "metadata": {},
   "outputs": [
    {
     "data": {
      "image/png": "[encoded data removed]",
      "text/plain": [
       "<Figure size 1080x288 with 3 Axes>"
      ]
     },
     "metadata": {
      "needs_background": "light"
     },
     "output_type": "display_data"
    }
   ],
   "source": [
    "plt.figure(figsize=(15, 4))\n",
    "\n",
    "#  Accuracy\n",
    "plt.subplot(1,3,1)\n",
    "plt.plot(history.history['accuracy'])\n",
    "plt.plot(history.history['val_accuracy'])\n",
    "plt.title('model accuracy')\n",
    "plt.ylabel('accuracy')\n",
    "plt.xlabel('epoch')\n",
    "plt.legend(['train', 'val'], loc='upper left')\n",
    "\n",
    "# Loss\n",
    "plt.subplot(1,3,2)\n",
    "plt.plot(history.history['loss'])\n",
    "plt.plot(history.history['val_loss'])\n",
    "plt.title('model loss')\n",
    "plt.ylabel('loss')\n",
    "plt.xlabel('epoch')\n",
    "plt.legend(['train', 'val'], loc='upper left')\n",
    "\n",
    "# mean_squared_error\n",
    "plt.subplot(1,3,3)\n",
    "plt.plot(history.history['mean_squared_error'])\n",
    "plt.plot(history.history['val_mean_squared_error'])\n",
    "plt.title('model mean_squared_error')\n",
    "plt.ylabel('mean_squared_error')\n",
    "plt.xlabel('epoch')\n",
    "plt.legend(['train', 'val'], loc='upper left')\n",
    "plt.show()"
   ]
  },
  {
   "cell_type": "markdown",
   "id": "4ba4f354",
   "metadata": {},
   "source": [
    "# 儲存模型"
   ]
  },
  {
   "cell_type": "code",
   "execution_count": 17,
   "id": "57b93732",
   "metadata": {},
   "outputs": [
    {
     "name": "stderr",
     "output_type": "stream",
     "text": [
      "WARNING:absl:Found untraced functions such as _jit_compiled_convolution_op, _jit_compiled_convolution_op, _jit_compiled_convolution_op while saving (showing 3 of 3). These functions will not be directly callable after loading.\n"
     ]
    },
    {
     "name": "stdout",
     "output_type": "stream",
     "text": [
      "INFO:tensorflow:Assets written to: vgg3D\\assets\n"
     ]
    },
    {
     "name": "stderr",
     "output_type": "stream",
     "text": [
      "INFO:tensorflow:Assets written to: vgg3D\\assets\n"
     ]
    }
   ],
   "source": [
    "model.save('vgg3D')"
   ]
  },
  {
   "cell_type": "code",
   "execution_count": null,
   "id": "cae6c158",
   "metadata": {},
   "outputs": [],
   "source": []
  },
  {
   "cell_type": "code",
   "execution_count": null,
   "id": "d87bddd0",
   "metadata": {},
   "outputs": [],
   "source": []
  },
  {
   "cell_type": "code",
   "execution_count": null,
   "id": "dcb16ebb",
   "metadata": {},
   "outputs": [],
   "source": []
  },
  {
   "cell_type": "code",
   "execution_count": null,
   "id": "ee9aa06b",
   "metadata": {},
   "outputs": [],
   "source": []
  },
  {
   "cell_type": "markdown",
   "id": "ac7a438a",
   "metadata": {},
   "source": [
    "# 匯出ONNX"
   ]
  },
  {
   "cell_type": "code",
   "execution_count": 18,
   "id": "081daa98",
   "metadata": {},
   "outputs": [
    {
     "name": "stdout",
     "output_type": "stream",
     "text": [
      "WARNING:tensorflow:From C:\\Users\\User\\anaconda3\\envs\\test\\lib\\site-packages\\tf2onnx\\tf_loader.py:715: extract_sub_graph (from tensorflow.python.framework.graph_util_impl) is deprecated and will be removed in a future version.\n",
      "Instructions for updating:\n",
      "Use `tf.compat.v1.graph_util.extract_sub_graph`\n"
     ]
    },
    {
     "name": "stderr",
     "output_type": "stream",
     "text": [
      "WARNING:tensorflow:From C:\\Users\\User\\anaconda3\\envs\\test\\lib\\site-packages\\tf2onnx\\tf_loader.py:715: extract_sub_graph (from tensorflow.python.framework.graph_util_impl) is deprecated and will be removed in a future version.\n",
      "Instructions for updating:\n",
      "Use `tf.compat.v1.graph_util.extract_sub_graph`\n"
     ]
    }
   ],
   "source": [
    "input_signature = [tf.TensorSpec([None, 64, 64, 11, 1], tf.float32, name='x')]\n",
    "# Use from_function for tf functions\n",
    "onnx_model, _ = tf2onnx.convert.from_keras(model, input_signature, opset=13)\n",
    "onnx.save(onnx_model, \"model_VGG_3D_reg.onnx\")"
   ]
  },
  {
   "cell_type": "markdown",
   "id": "68d1787f",
   "metadata": {},
   "source": [
    "# 更新模型(OPTION)"
   ]
  },
  {
   "cell_type": "code",
   "execution_count": 19,
   "id": "9d9c3366",
   "metadata": {},
   "outputs": [
    {
     "ename": "FileNotFoundError",
     "evalue": "[Errno 2] No such file or directory: 'D:\\\\SW_HS\\\\HSEnv\\\\HSEnvPredict\\\\HSEnvPredict\\\\bin\\\\x64\\\\Debug\\\\VGG_3D_model.onnx'",
     "output_type": "error",
     "traceback": [
      "\u001b[1;31m---------------------------------------------------------------------------\u001b[0m",
      "\u001b[1;31mFileNotFoundError\u001b[0m                         Traceback (most recent call last)",
      "Input \u001b[1;32mIn [19]\u001b[0m, in \u001b[0;36m<cell line: 6>\u001b[1;34m()\u001b[0m\n\u001b[0;32m      3\u001b[0m src_file \u001b[38;5;241m=\u001b[39m \u001b[38;5;124m\"\u001b[39m\u001b[38;5;124mmodel_VGG_3D_reg.onnx\u001b[39m\u001b[38;5;124m\"\u001b[39m\n\u001b[0;32m      4\u001b[0m tar_file \u001b[38;5;241m=\u001b[39m \u001b[38;5;124m'\u001b[39m\u001b[38;5;124mD:\u001b[39m\u001b[38;5;130;01m\\\\\u001b[39;00m\u001b[38;5;124mSW_HS\u001b[39m\u001b[38;5;130;01m\\\\\u001b[39;00m\u001b[38;5;124mHSEnv\u001b[39m\u001b[38;5;130;01m\\\\\u001b[39;00m\u001b[38;5;124mHSEnvPredict\u001b[39m\u001b[38;5;130;01m\\\\\u001b[39;00m\u001b[38;5;124mHSEnvPredict\u001b[39m\u001b[38;5;130;01m\\\\\u001b[39;00m\u001b[38;5;124mbin\u001b[39m\u001b[38;5;130;01m\\\\\u001b[39;00m\u001b[38;5;124mx64\u001b[39m\u001b[38;5;130;01m\\\\\u001b[39;00m\u001b[38;5;124mDebug\u001b[39m\u001b[38;5;130;01m\\\\\u001b[39;00m\u001b[38;5;124mVGG_3D_model.onnx\u001b[39m\u001b[38;5;124m'\u001b[39m\n\u001b[1;32m----> 6\u001b[0m \u001b[43mshutil\u001b[49m\u001b[38;5;241;43m.\u001b[39;49m\u001b[43mcopyfile\u001b[49m\u001b[43m(\u001b[49m\u001b[43msrc_file\u001b[49m\u001b[43m,\u001b[49m\u001b[43m \u001b[49m\u001b[43mtar_file\u001b[49m\u001b[43m)\u001b[49m\n",
      "File \u001b[1;32m~\\anaconda3\\envs\\test\\lib\\shutil.py:266\u001b[0m, in \u001b[0;36mcopyfile\u001b[1;34m(src, dst, follow_symlinks)\u001b[0m\n\u001b[0;32m    264\u001b[0m \u001b[38;5;28;01mwith\u001b[39;00m \u001b[38;5;28mopen\u001b[39m(src, \u001b[38;5;124m'\u001b[39m\u001b[38;5;124mrb\u001b[39m\u001b[38;5;124m'\u001b[39m) \u001b[38;5;28;01mas\u001b[39;00m fsrc:\n\u001b[0;32m    265\u001b[0m     \u001b[38;5;28;01mtry\u001b[39;00m:\n\u001b[1;32m--> 266\u001b[0m         \u001b[38;5;28;01mwith\u001b[39;00m \u001b[38;5;28;43mopen\u001b[39;49m\u001b[43m(\u001b[49m\u001b[43mdst\u001b[49m\u001b[43m,\u001b[49m\u001b[43m \u001b[49m\u001b[38;5;124;43m'\u001b[39;49m\u001b[38;5;124;43mwb\u001b[39;49m\u001b[38;5;124;43m'\u001b[39;49m\u001b[43m)\u001b[49m \u001b[38;5;28;01mas\u001b[39;00m fdst:\n\u001b[0;32m    267\u001b[0m             \u001b[38;5;66;03m# macOS\u001b[39;00m\n\u001b[0;32m    268\u001b[0m             \u001b[38;5;28;01mif\u001b[39;00m _HAS_FCOPYFILE:\n\u001b[0;32m    269\u001b[0m                 \u001b[38;5;28;01mtry\u001b[39;00m:\n",
      "\u001b[1;31mFileNotFoundError\u001b[0m: [Errno 2] No such file or directory: 'D:\\\\SW_HS\\\\HSEnv\\\\HSEnvPredict\\\\HSEnvPredict\\\\bin\\\\x64\\\\Debug\\\\VGG_3D_model.onnx'"
     ]
    }
   ],
   "source": [
    "import shutil\n",
    "\n",
    "src_file = \"model_VGG_3D_reg.onnx\"\n",
    "tar_file = 'D:\\\\SW_HS\\\\HSEnv\\\\HSEnvPredict\\\\HSEnvPredict\\\\bin\\\\x64\\\\Debug\\\\VGG_3D_model.onnx'\n",
    "\n",
    "shutil.copyfile(src_file, tar_file)"
   ]
  },
  {
   "cell_type": "code",
   "execution_count": null,
   "id": "4c4e071e",
   "metadata": {},
   "outputs": [],
   "source": []
  },
  {
   "cell_type": "code",
   "execution_count": null,
   "id": "51d6f36a",
   "metadata": {},
   "outputs": [],
   "source": []
  },
  {
   "cell_type": "code",
   "execution_count": null,
   "id": "76f5f290",
   "metadata": {},
   "outputs": [],
   "source": []
  },
  {
   "cell_type": "code",
   "execution_count": null,
   "id": "038687ba",
   "metadata": {},
   "outputs": [],
   "source": []
  },
  {
   "cell_type": "code",
   "execution_count": null,
   "id": "46ca982a",
   "metadata": {},
   "outputs": [],
   "source": []
  }
 ],
 "metadata": {
  "kernelspec": {
   "display_name": "Python 3 (ipykernel)",
   "language": "python",
   "name": "python3"
  },
  "language_info": {
   "codemirror_mode": {
    "name": "ipython",
    "version": 3
   },
   "file_extension": ".py",
   "mimetype": "text/x-python",
   "name": "python",
   "nbconvert_exporter": "python",
   "pygments_lexer": "ipython3",
   "version": "3.9.12"
  }
 },
 "nbformat": 4,
 "nbformat_minor": 5
}
